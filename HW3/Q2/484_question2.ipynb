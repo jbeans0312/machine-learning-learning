{
 "cells": [
  {
   "cell_type": "markdown",
   "metadata": {},
   "source": [
    "Question 2: \n",
    "John Bean, Disha Thakar, Jenn Werth"
   ]
  },
  {
   "cell_type": "code",
   "execution_count": null,
   "metadata": {},
   "outputs": [
    {
     "ename": "",
     "evalue": "",
     "output_type": "error",
     "traceback": [
      "\u001b[1;31mRunning cells with 'Python 3.8.2 64-bit' requires ipykernel package.\n",
      "\u001b[1;31mRun the following command to install 'ipykernel' into the Python environment. \n",
      "\u001b[1;31mCommand: '/usr/bin/python3 -m pip install ipykernel -U --user --force-reinstall'"
     ]
    }
   ],
   "source": [
    "\"\"\"\n",
    "CISC484: Machine Learning\n",
    "Homework 3, Question 2\n",
    "Authors: Disha Thakar, John Bean, Jenn Werth\n",
    "\"\"\"\n",
    "\n",
    "def map(mydata):\n",
    "    newdata = []\n",
    "    for instance in mydata:\n",
    "        newdata.append([1, instance[0]*1.414, instance[1]*1.414, instance[0]*instance[1]*1.414, instance[0]*instance[0], instance[1]*instance[1]])\n",
    "    return newdata\n",
    "\n",
    "\n",
    "def predict(row, weights):\n",
    "\n",
    "    activation = weights[0]\n",
    "\n",
    "    for i in range(len(row) - 1):\n",
    "        activation += weights[i + 1] * row[i]\n",
    "\n",
    "    if activation >= 0:\n",
    "        return 1\n",
    "    else:\n",
    "        return 0\n",
    "\n",
    "\n",
    "# Estimate Perceptron weights using stochastic gradient descent\n",
    "def ptalg(curr_data):\n",
    "    curr_data = map(curr_data)\n",
    "    epochs = 100\n",
    "    eng = 0.1  # choose a suitably small learning rate value\n",
    "    weights = [0.1 for i in range(len(curr_data[0]))]\n",
    "    for epoch in range(epochs):\n",
    "        sum_error = 0.0\n",
    "        for row in curr_data:\n",
    "            prediction = predict(row, weights)\n",
    "            error = row[-1] - prediction\n",
    "            sum_error += error ** 2\n",
    "            weights[0] = weights[0] + eng * error\n",
    "            for i in range(len(row) - 1):\n",
    "                weights[i + 1] = weights[i + 1] + eng * error * row[i]\n",
    "            if epoch%2 == 0:\n",
    "            # print the predicted value on every other epoch \n",
    "                print('predicted value = ', prediction)\n",
    "    return weights\n",
    "\n",
    "def main():\n",
    "    curr_data = [[0,0], [0,1], [1,0], [1,1]]\n",
    "    weights = ptalg(curr_data)\n",
    "    print(weights)\n",
    "\n",
    "if __name__==\"__main__\":\n",
    "    main()\n"
   ]
  }
 ],
 "metadata": {
  "kernelspec": {
   "display_name": "Python 3.8.2 64-bit",
   "language": "python",
   "name": "python3"
  },
  "language_info": {
   "name": "python",
   "version": "3.8.2"
  },
  "orig_nbformat": 4,
  "vscode": {
   "interpreter": {
    "hash": "31f2aee4e71d21fbe5cf8b01ff0e069b9275f58929596ceb00d14d90e3e16cd6"
   }
  }
 },
 "nbformat": 4,
 "nbformat_minor": 2
}
